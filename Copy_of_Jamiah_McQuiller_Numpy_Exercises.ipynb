{
  "cells": [
    {
      "cell_type": "markdown",
      "metadata": {
        "id": "view-in-github",
        "colab_type": "text"
      },
      "source": [
        "<a href=\"https://colab.research.google.com/github/jmcquiller/NumPy-exercise-/blob/main/Copy_of_Jamiah_McQuiller_Numpy_Exercises.ipynb\" target=\"_parent\"><img src=\"https://colab.research.google.com/assets/colab-badge.svg\" alt=\"Open In Colab\"/></a>"
      ]
    },
    {
      "cell_type": "markdown",
      "metadata": {
        "id": "sgQmmRhQo0rJ"
      },
      "source": [
        "#NumPy exercises\n",
        "Authors:  Natanael Moura Junior (natanael.junior@mjv.com.br) <br>\n",
        "          Carlos Eduardo Covas Costa (carlos.costa@mjv.com.br) \n",
        "\n",
        "\n",
        "<img align=\"center\" width=\"200\" src=\"https://raw.githubusercontent.com/natmourajr/data/main/mjv-tecnologia.png?raw=1\">"
      ]
    },
    {
      "cell_type": "markdown",
      "metadata": {
        "id": "-GL_HwHLo0rP"
      },
      "source": [
        "**Question 1** -  Import the NumPy library and assign the *np* allias to it."
      ]
    },
    {
      "cell_type": "code",
      "execution_count": null,
      "metadata": {
        "collapsed": true,
        "id": "KXslOGMzo0rQ"
      },
      "outputs": [],
      "source": [
        "#Type your code here\n",
        "import numpy as np"
      ]
    },
    {
      "cell_type": "markdown",
      "source": [
        "**Question 2** - Create a 1D array with 10 elements (from 1 to 12) by using a list of integers."
      ],
      "metadata": {
        "id": "6s47qPwnpQ_J"
      }
    },
    {
      "cell_type": "code",
      "source": [
        "#Type your code here\n",
        "x = np.array([1,2,3,4,5,6,7,8,9,10,11,12])\n",
        "print(x)"
      ],
      "metadata": {
        "id": "_XLsBvlzpcQF",
        "colab": {
          "base_uri": "https://localhost:8080/"
        },
        "outputId": "380e3fce-234f-41d5-90d6-ea4d25f6fa5b"
      },
      "execution_count": null,
      "outputs": [
        {
          "output_type": "stream",
          "name": "stdout",
          "text": [
            "[ 1  2  3  4  5  6  7  8  9 10 11 12]\n"
          ]
        }
      ]
    },
    {
      "cell_type": "markdown",
      "source": [
        "**Question 3** - Create a matrix (2D array) using a **`built-in function`**. This matrix has the following characteristics: 4 rows, 3 columns and it is populated with consecutive integers from 1 to 12(including)."
      ],
      "metadata": {
        "id": "TEKMyt5xp9bD"
      }
    },
    {
      "cell_type": "code",
      "source": [
        "#Type your code here\n",
        "x = np.array([[1,2,3,4],[5,6,7,8],[9,10,11,12]])\n",
        "print(x)"
      ],
      "metadata": {
        "id": "OSJoGhx1qNnc",
        "colab": {
          "base_uri": "https://localhost:8080/"
        },
        "outputId": "8b885444-b17b-4077-b7d4-e16d35da044b"
      },
      "execution_count": null,
      "outputs": [
        {
          "output_type": "stream",
          "name": "stdout",
          "text": [
            "[[ 1  2  3  4]\n",
            " [ 5  6  7  8]\n",
            " [ 9 10 11 12]]\n"
          ]
        }
      ]
    },
    {
      "cell_type": "markdown",
      "source": [
        "**Question 4** - Create a 4x4 ndarray by using a Built-in function that only contains consecutive even numbers from 2 to 32 (inclusive)."
      ],
      "metadata": {
        "id": "0T1TimeyuZM9"
      }
    },
    {
      "cell_type": "markdown",
      "source": [
        "**Comment**: This question has a similar issue that the question 3. A good practice to solve this is to use a built-in function. For example, you can solve this by using this code:"
      ],
      "metadata": {
        "id": "gRGJxbbYSe55"
      }
    },
    {
      "cell_type": "code",
      "source": [
        "X = np.linspace(2,32,16).reshape(4,4)\n",
        "print(X)"
      ],
      "metadata": {
        "colab": {
          "base_uri": "https://localhost:8080/"
        },
        "id": "yoa_6Iu5ShXd",
        "outputId": "e51b2f5d-0525-4dd0-ba97-740714053fec"
      },
      "execution_count": null,
      "outputs": [
        {
          "output_type": "stream",
          "name": "stdout",
          "text": [
            "[[ 2.  4.  6.  8.]\n",
            " [10. 12. 14. 16.]\n",
            " [18. 20. 22. 24.]\n",
            " [26. 28. 30. 32.]]\n"
          ]
        }
      ]
    },
    {
      "cell_type": "code",
      "source": [
        "#Type your code here\n",
        "x = np.array([[2,4,6,8],[10,12,14,16],[18,20,22,24],[26,28,30,32]])\n",
        "print(x)\n"
      ],
      "metadata": {
        "id": "sYuZODblu1U7",
        "colab": {
          "base_uri": "https://localhost:8080/"
        },
        "outputId": "2719e85d-a277-4ac9-b9cb-f8200345860f"
      },
      "execution_count": null,
      "outputs": [
        {
          "output_type": "stream",
          "name": "stdout",
          "text": [
            "[[ 2  4  6  8]\n",
            " [10 12 14 16]\n",
            " [18 20 22 24]\n",
            " [26 28 30 32]]\n"
          ]
        }
      ]
    },
    {
      "cell_type": "markdown",
      "source": [
        "**Question 5** - reate a 5 x 5 ndarray with consecutive integers from 1 to 25 (inclusive). Afterwards use Boolean indexing to pick out only the odd numbers in the array."
      ],
      "metadata": {
        "id": "pghd9xMlvgN6"
      }
    },
    {
      "cell_type": "markdown",
      "source": [
        "**Comment**: Good work! You made it a little bit forward in the question. Nice."
      ],
      "metadata": {
        "id": "xXbE0qZxUaCO"
      }
    },
    {
      "cell_type": "code",
      "source": [
        "#Type your code here\n",
        "# Create a 5 x 5 ndarray with consecutive integers from 1 to 25 (inclusive).\n",
        "x = np.arange(1,26).reshape(5,5)\n",
        "power = 2\n",
        "answer = (x[x%2==1])**power\n",
        "print(answer)\n",
        "#([1,2,3,4,5],[6,7,8,9,10],[11,12,13,14,15],[16,17,18,19,20],[21,22,23,24,25])"
      ],
      "metadata": {
        "id": "SgVQaKnwvzlb",
        "colab": {
          "base_uri": "https://localhost:8080/"
        },
        "outputId": "64612127-0865-4124-b63b-3f5958463f08"
      },
      "execution_count": null,
      "outputs": [
        {
          "output_type": "stream",
          "name": "stdout",
          "text": [
            "[  1   9  25  49  81 121 169 225 289 361 441 529 625]\n"
          ]
        }
      ]
    },
    {
      "cell_type": "code",
      "source": [
        "#Type your code here\n",
        "# Use Boolean indexing to pick out only the odd numbers in the array\n",
        "array = np.arange(1,26).reshape((5,5))\n",
        "power = 2\n",
        "answer = (array[array%2==1])**power\n",
        "print(answer)"
      ],
      "metadata": {
        "id": "mcWvSQV7wbI5",
        "colab": {
          "base_uri": "https://localhost:8080/"
        },
        "outputId": "1d190650-aeb0-4ee5-bcf6-4bcf33979363"
      },
      "execution_count": null,
      "outputs": [
        {
          "output_type": "stream",
          "name": "stdout",
          "text": [
            "[  1   9  25  49  81 121 169 225 289 361 441 529 625]\n"
          ]
        }
      ]
    },
    {
      "cell_type": "markdown",
      "source": [
        "**Question 6** - Create a 5x5 ndarray with consecutive integers from 1 to 25 (inclusive). Then, slice this 5x5 ndarray from 2nd to 3rd rows and from 2nd to last column (including) to create a new ndarray."
      ],
      "metadata": {
        "id": "0YPHI93f0G2D"
      }
    },
    {
      "cell_type": "markdown",
      "source": [
        "**Comment**: We just misunderstood a little bit the question. You can use the following code to solve this:"
      ],
      "metadata": {
        "id": "k8xageigY8o1"
      }
    },
    {
      "cell_type": "code",
      "source": [
        "X = np.arange(1,26).reshape(5,5)\n",
        "print(X)\n",
        "print('')\n",
        "\n",
        "Y = X[1:3,1:]\n",
        "print(Y)"
      ],
      "metadata": {
        "id": "_WLZuRH9ZLTT"
      },
      "execution_count": null,
      "outputs": []
    },
    {
      "cell_type": "code",
      "source": [
        "#Type your code here\n",
        "# create the 5x5 ndarray\n",
        "x = np.arange(1,26)\n",
        "print(x)\n",
        "print(x[:2])\n",
        "\n",
        "\n",
        "#help"
      ],
      "metadata": {
        "id": "j-0Pzbfy1pae",
        "colab": {
          "base_uri": "https://localhost:8080/"
        },
        "outputId": "abfe68bd-1758-49c5-af8e-167d9614fb34"
      },
      "execution_count": null,
      "outputs": [
        {
          "output_type": "stream",
          "name": "stdout",
          "text": [
            "[ 1  2  3  4  5  6  7  8  9 10 11 12 13 14 15 16 17 18 19 20 21 22 23 24\n",
            " 25]\n",
            "[1 2]\n"
          ]
        }
      ]
    },
    {
      "cell_type": "code",
      "source": [
        "#Type your code here\n",
        "#create the new ndarray from X using the slice from 7th position to 15th position (including).\n",
        "x = np.array([1,2,3,4,5,6,7,8,9,10,11,12,13,14,15])\n",
        "print(x)\n",
        "print(x[7:15])"
      ],
      "metadata": {
        "id": "L6oOPavZ2Cl0",
        "colab": {
          "base_uri": "https://localhost:8080/"
        },
        "outputId": "da2caea3-3f81-4d92-dc9a-9b8d68ae000d"
      },
      "execution_count": null,
      "outputs": [
        {
          "output_type": "stream",
          "name": "stdout",
          "text": [
            "[ 1  2  3  4  5  6  7  8  9 10 11 12 13 14 15]\n",
            "[ 8  9 10 11 12 13 14 15]\n"
          ]
        }
      ]
    },
    {
      "cell_type": "markdown",
      "metadata": {
        "id": "O4GLVHA3o0rR"
      },
      "source": [
        "**Question 7** - Create a 1D ndarray with 10 zeros and 2x5 ndarray with zeros."
      ]
    },
    {
      "cell_type": "code",
      "execution_count": null,
      "metadata": {
        "id": "O7a08a9to0rS",
        "colab": {
          "base_uri": "https://localhost:8080/"
        },
        "outputId": "d1f0ef64-497d-4548-857c-fec9692f6e30"
      },
      "outputs": [
        {
          "output_type": "stream",
          "name": "stdout",
          "text": [
            "[[0. 0. 0. 0. 0.]\n",
            " [0. 0. 0. 0. 0.]]\n"
          ]
        }
      ],
      "source": [
        "#Type your code here\n",
        "#1D ndarray with 10 zeros\n",
        "x = np.zeros((2,5))\n",
        "print(x)"
      ]
    },
    {
      "cell_type": "code",
      "source": [
        "#Type your code here\n",
        "#2x5 ndarray of zeros\n",
        "x = np.zeros((2,5))\n",
        "print(x)"
      ],
      "metadata": {
        "id": "KrDMtrLK5Jth",
        "colab": {
          "base_uri": "https://localhost:8080/"
        },
        "outputId": "84ad352d-b468-43cd-bfff-a65f39426e69"
      },
      "execution_count": null,
      "outputs": [
        {
          "output_type": "stream",
          "name": "stdout",
          "text": [
            "[[0. 0. 0. 0. 0.]\n",
            " [0. 0. 0. 0. 0.]]\n"
          ]
        }
      ]
    },
    {
      "cell_type": "markdown",
      "metadata": {
        "id": "0onZiddJo0rT"
      },
      "source": [
        "**Question 8** - Create a 5x5 ndarray of random numbers and subtract each element by 1."
      ]
    },
    {
      "cell_type": "code",
      "execution_count": null,
      "metadata": {
        "id": "Ti5h38Zuo0rU",
        "colab": {
          "base_uri": "https://localhost:8080/"
        },
        "outputId": "737381fd-b686-4fbf-c3ac-fd713dd39e2c"
      },
      "outputs": [
        {
          "output_type": "stream",
          "name": "stdout",
          "text": [
            "[[-0.60942566 -0.99794967 -0.84099903 -0.3130314  -0.94480876]\n",
            " [-0.3438031  -0.73976065 -0.89424712 -0.08629005 -0.23460205]\n",
            " [-0.08428425 -0.08306251 -0.00958079 -0.29530616 -0.62456804]\n",
            " [-0.42306298 -0.23687175 -0.001843   -0.27113853 -0.35105957]\n",
            " [-0.31807562 -0.27200329 -0.56746393 -0.63393847 -0.22992964]]\n"
          ]
        }
      ],
      "source": [
        "#Type you code here\n",
        "x = np.random.rand(5,5)-1\n",
        "print(x)"
      ]
    },
    {
      "cell_type": "markdown",
      "metadata": {
        "id": "DGNPvmHAo0rV"
      },
      "source": [
        "**Question 9** -  Create a 10x10 ndarray with the constant number 5."
      ]
    },
    {
      "cell_type": "code",
      "execution_count": null,
      "metadata": {
        "id": "TD3xxyVEo0rW",
        "colab": {
          "base_uri": "https://localhost:8080/"
        },
        "outputId": "790fd694-4075-48c5-acb4-1711355838db"
      },
      "outputs": [
        {
          "output_type": "stream",
          "name": "stdout",
          "text": [
            "[[5 5 5 5 5 5 5 5 5 5]\n",
            " [5 5 5 5 5 5 5 5 5 5]\n",
            " [5 5 5 5 5 5 5 5 5 5]\n",
            " [5 5 5 5 5 5 5 5 5 5]\n",
            " [5 5 5 5 5 5 5 5 5 5]\n",
            " [5 5 5 5 5 5 5 5 5 5]\n",
            " [5 5 5 5 5 5 5 5 5 5]\n",
            " [5 5 5 5 5 5 5 5 5 5]\n",
            " [5 5 5 5 5 5 5 5 5 5]\n",
            " [5 5 5 5 5 5 5 5 5 5]]\n"
          ]
        }
      ],
      "source": [
        "#Type your code here\n",
        "array = np.full((10,10), 5)\n",
        "print(array)\n"
      ]
    },
    {
      "cell_type": "markdown",
      "metadata": {
        "id": "81U1tGMGo0rX"
      },
      "source": [
        "**Question 10** - Create an identity matrix of order 3."
      ]
    },
    {
      "cell_type": "markdown",
      "source": [
        "**Comment**: The identity matrix is the one that has just the ones in the main diagonal. Regarding the order, saying the order of 3 is a 3x3 matrix."
      ],
      "metadata": {
        "id": "S1h7YdpaZYsU"
      }
    },
    {
      "cell_type": "code",
      "source": [
        "X = np.eye(3)\n",
        "print(X)"
      ],
      "metadata": {
        "colab": {
          "base_uri": "https://localhost:8080/"
        },
        "id": "bAMsiRilaIv0",
        "outputId": "85839d53-1897-4005-b383-e4f0997e76c9"
      },
      "execution_count": null,
      "outputs": [
        {
          "output_type": "stream",
          "name": "stdout",
          "text": [
            "[[1. 0. 0.]\n",
            " [0. 1. 0.]\n",
            " [0. 0. 1.]]\n"
          ]
        }
      ]
    },
    {
      "cell_type": "code",
      "execution_count": null,
      "metadata": {
        "id": "GSFLu2p8o0rb",
        "colab": {
          "base_uri": "https://localhost:8080/"
        },
        "outputId": "2e16db6b-b7b9-441f-aaf8-9d2ec3a43989"
      },
      "outputs": [
        {
          "output_type": "stream",
          "name": "stdout",
          "text": [
            "[[3 3 3 3 3]\n",
            " [3 3 3 3 3]\n",
            " [3 3 3 3 3]\n",
            " [3 3 3 3 3]\n",
            " [3 3 3 3 3]]\n"
          ]
        }
      ],
      "source": [
        "#Type your code here\n",
        "x = np.full((5,5), 3)\n",
        "print(x)\n"
      ]
    },
    {
      "cell_type": "markdown",
      "metadata": {
        "id": "BK3RRL--o0rc"
      },
      "source": [
        "**Question 11** - Create a vector containing 25 elements from a Normal Distribution."
      ]
    },
    {
      "cell_type": "code",
      "execution_count": null,
      "metadata": {
        "colab": {
          "base_uri": "https://localhost:8080/"
        },
        "id": "Su5bReEDo0rd",
        "outputId": "53e5b477-c65b-45cf-ca88-dd840af838af"
      },
      "outputs": [
        {
          "output_type": "stream",
          "name": "stdout",
          "text": [
            "[ 0.61734586  0.17478441 -1.50912716 -0.33030139  0.73613181  0.13932753\n",
            " -0.84172447 -0.62718555 -0.11893756  1.22906484 -0.6102951   0.88686249\n",
            " -2.21570193  0.48502811  1.00681146 -0.22200068  0.682334    1.19328303\n",
            " -1.00148646 -0.76622106 -2.25339829 -0.1084276   0.27471227 -0.36252842\n",
            " -0.29340567]\n"
          ]
        }
      ],
      "source": [
        "#Type your code here\n",
        "list = [0.61734586, 0.17478441, -1.50912716, -0.33030139, 0.73613181,  0.13932753,\n",
        " -0.84172447, -0.62718555, -0.11893756,  1.22906484, -0.6102951,   0.88686249,\n",
        " -2.21570193,  0.48502811,  1.00681146, -0.22200068,  0.682334,    1.19328303,\n",
        " -1.00148646, -0.76622106, -2.25339829, -0.1084276,   0.27471227, -0.36252842,\n",
        " -0.29340567]\n",
        "Vector = np.array(list)\n",
        "print(Vector)"
      ]
    },
    {
      "cell_type": "markdown",
      "metadata": {
        "id": "_ySjEnfKo0re"
      },
      "source": [
        "**Question 12** - Create a vector containing 20 numbers equally spaced from 0 to 1."
      ]
    },
    {
      "cell_type": "code",
      "execution_count": null,
      "metadata": {
        "colab": {
          "base_uri": "https://localhost:8080/"
        },
        "id": "VhTWVsQGo0re",
        "outputId": "a8fc1f5d-ec9a-4573-b145-4e39ec7c48d2"
      },
      "outputs": [
        {
          "output_type": "stream",
          "name": "stdout",
          "text": [
            "[[ 0  1  2  3  4  5  6  7  8  9 10 11 12 13 14 15 16 17 18 19 20 21]]\n"
          ]
        }
      ],
      "source": [
        "#Type your code here\n",
        "x = [[0, 1, 2, 3, 4, 5, 6, 7, 8, 9, 10, 11, 12, 13, 14, 15, 16, 17, 18, 19, 20, 21]]\n",
        "Vector = np.array(x)\n",
        "print(Vector)"
      ]
    },
    {
      "cell_type": "markdown",
      "metadata": {
        "id": "qZNbz2gUo0rf"
      },
      "source": [
        "**Question 13** Given the matrix *`mat`*, you have to create a code to slice the matrix *`mat`* to create a submatrix that contains the 3rd,4th, and 5th rows and all columns, except the first column."
      ]
    },
    {
      "cell_type": "markdown",
      "source": [
        "**Comment**: You can solve this part by using the following approach:"
      ],
      "metadata": {
        "id": "k_fuBa5RcZjk"
      }
    },
    {
      "cell_type": "code",
      "source": [
        "mat = np.arange(1,26).reshape(5,5)\n",
        "mat\n",
        "\n",
        "mat[2:,1:]"
      ],
      "metadata": {
        "id": "RS014a1LcZMK"
      },
      "execution_count": null,
      "outputs": []
    },
    {
      "cell_type": "code",
      "execution_count": null,
      "metadata": {
        "id": "ycwkPD-Zo0rf",
        "colab": {
          "base_uri": "https://localhost:8080/",
          "height": 297
        },
        "outputId": "acc42e7a-1c5d-48f4-fef7-015c045870d5"
      },
      "outputs": [
        {
          "output_type": "error",
          "ename": "TypeError",
          "evalue": "ignored",
          "traceback": [
            "\u001b[0;31m---------------------------------------------------------------------------\u001b[0m",
            "\u001b[0;31mTypeError\u001b[0m                                 Traceback (most recent call last)",
            "\u001b[0;32m<ipython-input-80-494a3238ba7b>\u001b[0m in \u001b[0;36m<module>\u001b[0;34m()\u001b[0m\n\u001b[1;32m      5\u001b[0m        \u001b[0;34m[\u001b[0m\u001b[0;36m16\u001b[0m\u001b[0;34m,\u001b[0m \u001b[0;36m17\u001b[0m\u001b[0;34m,\u001b[0m \u001b[0;36m18\u001b[0m\u001b[0;34m,\u001b[0m \u001b[0;36m19\u001b[0m\u001b[0;34m,\u001b[0m \u001b[0;36m20\u001b[0m\u001b[0;34m]\u001b[0m\u001b[0;34m,\u001b[0m\u001b[0;34m\u001b[0m\u001b[0;34m\u001b[0m\u001b[0m\n\u001b[1;32m      6\u001b[0m        [21, 22, 23, 24, 25]]\n\u001b[0;32m----> 7\u001b[0;31m \u001b[0mprint\u001b[0m\u001b[0;34m(\u001b[0m\u001b[0mmat\u001b[0m\u001b[0;34m[\u001b[0m\u001b[0;36m6\u001b[0m\u001b[0;34m:\u001b[0m \u001b[0;34m,\u001b[0m \u001b[0;34m:\u001b[0m\u001b[0;36m25\u001b[0m\u001b[0;34m]\u001b[0m\u001b[0;34m)\u001b[0m\u001b[0;34m\u001b[0m\u001b[0;34m\u001b[0m\u001b[0m\n\u001b[0m",
            "\u001b[0;31mTypeError\u001b[0m: list indices must be integers or slices, not tuple"
          ]
        }
      ],
      "source": [
        "#Type your code here\n",
        "mat = [[ 1,  2,  3,  4,  5],\n",
        "       [ 6,  7,  8,  9, 10],\n",
        "       [11, 12, 13, 14, 15],\n",
        "       [16, 17, 18, 19, 20],\n",
        "       [21, 22, 23, 24, 25]]\n",
        "print(mat[6: , :25])\n"
      ]
    },
    {
      "cell_type": "code",
      "execution_count": null,
      "metadata": {
        "id": "rKQ1HgF0o0rg"
      },
      "outputs": [],
      "source": [
        "#Type your code here"
      ]
    },
    {
      "cell_type": "markdown",
      "source": [
        "**Question 14** - Given the matrix *`mat`*, which is the indexing of number 20?"
      ],
      "metadata": {
        "id": "ojSJQXaA_yug"
      }
    },
    {
      "cell_type": "code",
      "execution_count": null,
      "metadata": {
        "id": "kEfkSuV4o0rh"
      },
      "outputs": [],
      "source": [
        "#Type your code here\n",
        "mat[3,4]"
      ]
    },
    {
      "cell_type": "markdown",
      "source": [
        "**Question 15** - Given the matrix *`mat`*, create a code that slices the first 3 rows of the 2nd column."
      ],
      "metadata": {
        "id": "YlB9HDWgAnKZ"
      }
    },
    {
      "cell_type": "code",
      "execution_count": null,
      "metadata": {
        "id": "6uluxyyYo0rh"
      },
      "outputs": [],
      "source": [
        "#Type your code here\n",
        "mat[:3,1:2]"
      ]
    },
    {
      "cell_type": "markdown",
      "source": [
        "**Question 16 A** - Given the matrix *`mat`*, create a code that slices the matrix and shows just the last line."
      ],
      "metadata": {
        "id": "Nn89L78gBPoS"
      }
    },
    {
      "cell_type": "code",
      "execution_count": null,
      "metadata": {
        "id": "oTRAkQVDo0ri"
      },
      "outputs": [],
      "source": [
        "#Type your code here\n",
        "mat[4,:]"
      ]
    },
    {
      "cell_type": "markdown",
      "source": [
        "**Question 16 B** - Given the matrix *`mat`*, create a code that slices the matrix and shows the last 2 lines."
      ],
      "metadata": {
        "id": "nKxAv-56CQQd"
      }
    },
    {
      "cell_type": "code",
      "execution_count": null,
      "metadata": {
        "id": "2X10Oggzo0rj"
      },
      "outputs": [],
      "source": [
        "#Type your code here\n",
        "mat[3:5,:]"
      ]
    },
    {
      "cell_type": "markdown",
      "metadata": {
        "id": "WOT7Cr_ho0rj"
      },
      "source": [
        "**Question 17** - Compute the overall sum of *`mat`*."
      ]
    },
    {
      "cell_type": "code",
      "execution_count": null,
      "metadata": {
        "id": "xzqxZ9hwo0rk"
      },
      "outputs": [],
      "source": [
        "#Type your code here\n",
        "mat.sum()"
      ]
    },
    {
      "cell_type": "markdown",
      "metadata": {
        "id": "Jxockf19o0rk"
      },
      "source": [
        "**Question 18** - Compute the overall standard devition of *`mat`*."
      ]
    },
    {
      "cell_type": "code",
      "execution_count": null,
      "metadata": {
        "id": "n2cevpiqo0rk"
      },
      "outputs": [],
      "source": [
        "#Type your code here\n",
        "mat.std()"
      ]
    },
    {
      "cell_type": "markdown",
      "metadata": {
        "id": "4-FTFu4Fo0rk"
      },
      "source": [
        "**Question 19** - Compute the sum of each column of *`mat`*."
      ]
    },
    {
      "cell_type": "code",
      "execution_count": null,
      "metadata": {
        "id": "g7_OsCNso0rk"
      },
      "outputs": [],
      "source": [
        "#Type your code here\n",
        "mat.sum(axis=0)"
      ]
    },
    {
      "cell_type": "markdown",
      "source": [
        "**Question 20** - Compute the variance of each row of *`mat`*."
      ],
      "metadata": {
        "id": "D7zE5JfiE6rp"
      }
    },
    {
      "cell_type": "code",
      "source": [
        "#Type your code here\n",
        "mat.var(axis=1)"
      ],
      "metadata": {
        "id": "i2KKB1WTFDHm"
      },
      "execution_count": null,
      "outputs": []
    },
    {
      "cell_type": "markdown",
      "source": [
        "## **GREAT JOB!!!**"
      ],
      "metadata": {
        "id": "luYnjBw_mcHv"
      }
    }
  ],
  "metadata": {
    "kernelspec": {
      "display_name": "Python 3",
      "language": "python",
      "name": "python3"
    },
    "language_info": {
      "codemirror_mode": {
        "name": "ipython",
        "version": 3
      },
      "file_extension": ".py",
      "mimetype": "text/x-python",
      "name": "python",
      "nbconvert_exporter": "python",
      "pygments_lexer": "ipython3",
      "version": "3.7.3"
    },
    "colab": {
      "name": "Copy of Jamiah McQuiller Numpy Exercises.ipynb",
      "provenance": [],
      "collapsed_sections": [],
      "include_colab_link": true
    }
  },
  "nbformat": 4,
  "nbformat_minor": 0
}